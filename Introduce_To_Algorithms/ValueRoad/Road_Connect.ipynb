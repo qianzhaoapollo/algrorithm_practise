{
 "cells": [
  {
   "cell_type": "code",
   "execution_count": 2,
   "metadata": {},
   "outputs": [
    {
     "name": "stdout",
     "output_type": "stream",
     "text": [
      "File is not found.\n",
      "File is not found.\n",
      "File is not found.\n",
      "File is not found.\n",
      "File is not found.\n",
      "File is not found.\n",
      "File is not found.\n",
      "File is not found.\n",
      "File is not found.\n",
      "File is not found.\n",
      "File is not found.\n",
      "File is not found.\n",
      "File is not found.\n",
      "File is not found.\n",
      "File is not found.\n",
      "File is not found.\n",
      "File is not found.\n",
      "File is not found.\n",
      "File is not found.\n",
      "File is not found.\n",
      "File is not found.\n",
      "File is not found.\n",
      "File is not found.\n",
      "File is not found.\n",
      "File is not found.\n",
      "File is not found.\n",
      "File is not found.\n"
     ]
    }
   ],
   "source": [
    "import os\n",
    "\n",
    "years = [2015, 2016, 2017]\n",
    "months = ['01', '02', '03', '04', '05', '06', '07', '08', '09']\n",
    "\n",
    "finput = ''\n",
    "output = ''\n",
    "\n",
    "for year in years:\n",
    "    for month in months:\n",
    "        finput = str(year) + month + 'result.csv'\n",
    "        output = str(year) + month + 'fullroad.csv'\n",
    "        #print(data)\n",
    "        try:\n",
    "            f = open(finput)\n",
    "            f.close()\n",
    "            os.system(\"./connect_pieces \" + finput + ' ' + output)\n",
    "            print(\"./connect_pieces \" + finput + ' ' + output + \" is ready!\")\n",
    "        except FileNotFoundError:\n",
    "            print(\"File is not found.\")"
   ]
  },
  {
   "cell_type": "code",
   "execution_count": null,
   "metadata": {},
   "outputs": [],
   "source": []
  }
 ],
 "metadata": {
  "kernelspec": {
   "display_name": "Python 3",
   "language": "python",
   "name": "python3"
  },
  "language_info": {
   "codemirror_mode": {
    "name": "ipython",
    "version": 3
   },
   "file_extension": ".py",
   "mimetype": "text/x-python",
   "name": "python",
   "nbconvert_exporter": "python",
   "pygments_lexer": "ipython3",
   "version": "3.6.4"
  }
 },
 "nbformat": 4,
 "nbformat_minor": 2
}
