{
 "cells": [
  {
   "cell_type": "code",
   "execution_count": 1,
   "metadata": {},
   "outputs": [
    {
     "name": "stdout",
     "output_type": "stream",
     "text": [
      "./connect_pieces 201501result.csv 201501fullroad.csv is ready!\n",
      "./connect_pieces 201502result.csv 201502fullroad.csv is ready!\n",
      "./connect_pieces 201503result.csv 201503fullroad.csv is ready!\n",
      "./connect_pieces 201504result.csv 201504fullroad.csv is ready!\n",
      "./connect_pieces 201505result.csv 201505fullroad.csv is ready!\n",
      "./connect_pieces 201506result.csv 201506fullroad.csv is ready!\n",
      "./connect_pieces 201507result.csv 201507fullroad.csv is ready!\n",
      "./connect_pieces 201508result.csv 201508fullroad.csv is ready!\n",
      "./connect_pieces 201509result.csv 201509fullroad.csv is ready!\n",
      "./connect_pieces 201601result.csv 201601fullroad.csv is ready!\n",
      "./connect_pieces 201602result.csv 201602fullroad.csv is ready!\n",
      "./connect_pieces 201603result.csv 201603fullroad.csv is ready!\n",
      "./connect_pieces 201604result.csv 201604fullroad.csv is ready!\n",
      "./connect_pieces 201605result.csv 201605fullroad.csv is ready!\n",
      "./connect_pieces 201606result.csv 201606fullroad.csv is ready!\n",
      "./connect_pieces 201607result.csv 201607fullroad.csv is ready!\n",
      "./connect_pieces 201608result.csv 201608fullroad.csv is ready!\n",
      "./connect_pieces 201609result.csv 201609fullroad.csv is ready!\n",
      "./connect_pieces 201701result.csv 201701fullroad.csv is ready!\n",
      "./connect_pieces 201702result.csv 201702fullroad.csv is ready!\n",
      "./connect_pieces 201703result.csv 201703fullroad.csv is ready!\n",
      "./connect_pieces 201704result.csv 201704fullroad.csv is ready!\n",
      "./connect_pieces 201705result.csv 201705fullroad.csv is ready!\n",
      "./connect_pieces 201706result.csv 201706fullroad.csv is ready!\n",
      "./connect_pieces 201707result.csv 201707fullroad.csv is ready!\n",
      "./connect_pieces 201708result.csv 201708fullroad.csv is ready!\n",
      "./connect_pieces 201709result.csv 201709fullroad.csv is ready!\n"
     ]
    }
   ],
   "source": [
    "import os\n",
    "\n",
    "years = [2015, 2016, 2017]\n",
    "months = ['01', '02', '03', '04', '05', '06', '07', '08', '09']\n",
    "\n",
    "finput = ''\n",
    "output = ''\n",
    "\n",
    "for year in years:\n",
    "    for month in months:\n",
    "        finput = str(year) + month + 'result.csv'\n",
    "        output = str(year) + month + 'fullroad.csv'\n",
    "        #print(data)\n",
    "        os.system(\"./connect_pieces \" + finput + ' ' + output)\n",
    "        print(\"./connect_pieces \" + finput + ' ' + output + \" is ready!\")"
   ]
  },
  {
   "cell_type": "code",
   "execution_count": null,
   "metadata": {},
   "outputs": [],
   "source": []
  }
 ],
 "metadata": {
  "kernelspec": {
   "display_name": "Python 3",
   "language": "python",
   "name": "python3"
  },
  "language_info": {
   "codemirror_mode": {
    "name": "ipython",
    "version": 3
   },
   "file_extension": ".py",
   "mimetype": "text/x-python",
   "name": "python",
   "nbconvert_exporter": "python",
   "pygments_lexer": "ipython3",
   "version": "3.6.4"
  }
 },
 "nbformat": 4,
 "nbformat_minor": 2
}
