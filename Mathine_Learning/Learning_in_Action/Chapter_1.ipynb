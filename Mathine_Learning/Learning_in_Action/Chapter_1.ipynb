{
 "cells": [
  {
   "cell_type": "code",
   "execution_count": 1,
   "metadata": {},
   "outputs": [
    {
     "name": "stdout",
     "output_type": "stream",
     "text": [
      " 驱动器 F 中的卷是 work\n",
      " 卷的序列号是 AC36-1E39\n",
      "\n",
      " F:\\zhaoqian\\gitcodes\\algrorithm_practise\\Mathine_Learning\\Learning_in_Action 的目录\n",
      "\n",
      "2018/01/22  17:50    <DIR>          .\n",
      "2018/01/22  17:50    <DIR>          ..\n",
      "2018/01/22  17:34    <DIR>          .ipynb_checkpoints\n",
      "2018/01/22  17:50    <DIR>          Chapter_1\n",
      "2018/01/22  17:46               103 README.md\n",
      "               1 个文件            103 字节\n",
      "               4 个目录 312,231,153,664 可用字节\n"
     ]
    }
   ],
   "source": [
    "%ls"
   ]
  },
  {
   "cell_type": "code",
   "execution_count": 2,
   "metadata": {},
   "outputs": [
    {
     "name": "stdout",
     "output_type": "stream",
     "text": [
      "F:\\zhaoqian\\gitcodes\\algrorithm_practise\\Mathine_Learning\\Learning_in_Action\\Chapter_1\n"
     ]
    }
   ],
   "source": [
    "%cd Chapter_1/"
   ]
  },
  {
   "cell_type": "code",
   "execution_count": 3,
   "metadata": {},
   "outputs": [
    {
     "name": "stdout",
     "output_type": "stream",
     "text": [
      " 驱动器 F 中的卷是 work\n",
      " 卷的序列号是 AC36-1E39\n",
      "\n",
      " F:\\zhaoqian\\gitcodes\\algrorithm_practise\\Mathine_Learning\\Learning_in_Action\\Chapter_1 的目录\n",
      "\n",
      "2018/01/22  17:50    <DIR>          .\n",
      "2018/01/22  17:50    <DIR>          ..\n",
      "2018/01/22  17:36               555 Chapter_1.ipynb\n",
      "2012/03/01  15:40            35,725 datingTestSet.txt\n",
      "2012/03/01  15:39            27,067 datingTestSet2.txt\n",
      "               3 个文件         63,347 字节\n",
      "               2 个目录 312,231,153,664 可用字节\n"
     ]
    }
   ],
   "source": [
    "%ls"
   ]
  },
  {
   "cell_type": "code",
   "execution_count": null,
   "metadata": {},
   "outputs": [],
   "source": []
  }
 ],
 "metadata": {
  "kernelspec": {
   "display_name": "Python 3",
   "language": "python",
   "name": "python3"
  },
  "language_info": {
   "codemirror_mode": {
    "name": "ipython",
    "version": 3
   },
   "file_extension": ".py",
   "mimetype": "text/x-python",
   "name": "python",
   "nbconvert_exporter": "python",
   "pygments_lexer": "ipython3",
   "version": "3.6.4"
  }
 },
 "nbformat": 4,
 "nbformat_minor": 2
}
