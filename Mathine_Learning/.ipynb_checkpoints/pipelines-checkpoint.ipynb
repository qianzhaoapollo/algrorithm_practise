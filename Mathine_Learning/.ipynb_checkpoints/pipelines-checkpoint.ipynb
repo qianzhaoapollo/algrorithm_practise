{
 "cells": [
  {
   "cell_type": "code",
   "execution_count": 1,
   "metadata": {},
   "outputs": [],
   "source": [
    "from sklearn import datasets\n",
    "import numpy as np"
   ]
  },
  {
   "cell_type": "code",
   "execution_count": 2,
   "metadata": {},
   "outputs": [],
   "source": [
    "mat = datasets.make_spd_matrix(10)"
   ]
  },
  {
   "cell_type": "code",
   "execution_count": 3,
   "metadata": {},
   "outputs": [],
   "source": [
    "mat\n",
    "masking_array=np.random.binomial(1, .1, mat.shape).astype(bool)"
   ]
  },
  {
   "cell_type": "code",
   "execution_count": 4,
   "metadata": {},
   "outputs": [],
   "source": [
    "mat[masking_array] = np.nan"
   ]
  },
  {
   "cell_type": "code",
   "execution_count": 5,
   "metadata": {},
   "outputs": [
    {
     "data": {
      "text/plain": [
       "array([[ 1.58922627,  0.18722205,  0.69065348,  1.69213707],\n",
       "       [        nan,  0.37509367,  0.11047201,  0.01362504],\n",
       "       [ 0.69065348,  0.11047201,  0.84660396,  0.95010954],\n",
       "       [ 1.69213707,  0.01362504,  0.95010954,  3.23782243]])"
      ]
     },
     "execution_count": 5,
     "metadata": {},
     "output_type": "execute_result"
    }
   ],
   "source": [
    "mat[:4, :4]"
   ]
  },
  {
   "cell_type": "code",
   "execution_count": 6,
   "metadata": {},
   "outputs": [],
   "source": [
    "from sklearn import preprocessing\n",
    "impute = preprocessing.Imputer()"
   ]
  },
  {
   "cell_type": "code",
   "execution_count": 8,
   "metadata": {},
   "outputs": [],
   "source": [
    "scaler = preprocessing.StandardScaler()"
   ]
  },
  {
   "cell_type": "code",
   "execution_count": 10,
   "metadata": {},
   "outputs": [],
   "source": [
    "mat_imputed = impute.fit_transform(mat)"
   ]
  },
  {
   "cell_type": "code",
   "execution_count": 11,
   "metadata": {},
   "outputs": [
    {
     "data": {
      "text/plain": [
       "array([[ 1.58922627,  0.18722205,  0.69065348,  1.69213707],\n",
       "       [ 0.82873697,  0.37509367,  0.11047201,  0.01362504],\n",
       "       [ 0.69065348,  0.11047201,  0.84660396,  0.95010954],\n",
       "       [ 1.69213707,  0.01362504,  0.95010954,  3.23782243]])"
      ]
     },
     "execution_count": 11,
     "metadata": {},
     "output_type": "execute_result"
    }
   ],
   "source": [
    "mat_imputed[:4,:4]"
   ]
  },
  {
   "cell_type": "code",
   "execution_count": 12,
   "metadata": {},
   "outputs": [],
   "source": [
    "mat_imp_and_scaled=scaler.fit_transform(mat_imputed)"
   ]
  },
  {
   "cell_type": "code",
   "execution_count": 14,
   "metadata": {},
   "outputs": [
    {
     "data": {
      "text/plain": [
       "array([[  1.07391858e+00,   6.28837599e-01,   8.43702465e-01,\n",
       "          6.92609162e-01],\n",
       "       [ -3.13558425e-16,   2.25942616e+00,  -2.39332159e-01,\n",
       "         -3.23400259e-01],\n",
       "       [ -1.94993437e-01,  -3.72967705e-02,   1.13481788e+00,\n",
       "          2.43457204e-01],\n",
       "       [  1.21924321e+00,  -8.77857775e-01,   1.32803350e+00,\n",
       "          1.62821811e+00]])"
      ]
     },
     "execution_count": 14,
     "metadata": {},
     "output_type": "execute_result"
    }
   ],
   "source": [
    "mat_imp_and_scaled[:4, :4]"
   ]
  },
  {
   "cell_type": "code",
   "execution_count": 15,
   "metadata": {},
   "outputs": [
    {
     "data": {
      "text/plain": [
       "array([[ 1.58922627,  0.18722205,  0.69065348,  1.69213707],\n",
       "       [        nan,  0.37509367,  0.11047201,  0.01362504],\n",
       "       [ 0.69065348,  0.11047201,  0.84660396,  0.95010954],\n",
       "       [ 1.69213707,  0.01362504,  0.95010954,  3.23782243]])"
      ]
     },
     "execution_count": 15,
     "metadata": {},
     "output_type": "execute_result"
    }
   ],
   "source": [
    "mat[:4,:4]"
   ]
  },
  {
   "cell_type": "code",
   "execution_count": 16,
   "metadata": {},
   "outputs": [],
   "source": [
    "from sklearn import pipeline\n",
    "pipe=pipeline.Pipeline([('impute',impute),('scaler',scaler)])\n"
   ]
  },
  {
   "cell_type": "code",
   "execution_count": 17,
   "metadata": {},
   "outputs": [
    {
     "data": {
      "text/plain": [
       "Pipeline(memory=None,\n",
       "     steps=[('impute', Imputer(axis=0, copy=True, missing_values='NaN', strategy='mean', verbose=0)), ('scaler', StandardScaler(copy=True, with_mean=True, with_std=True))])"
      ]
     },
     "execution_count": 17,
     "metadata": {},
     "output_type": "execute_result"
    }
   ],
   "source": [
    "pipe"
   ]
  },
  {
   "cell_type": "code",
   "execution_count": 18,
   "metadata": {},
   "outputs": [],
   "source": [
    "new_mat = pipe.fit_transform(mat)"
   ]
  },
  {
   "cell_type": "code",
   "execution_count": 20,
   "metadata": {},
   "outputs": [
    {
     "data": {
      "text/plain": [
       "array([[  1.07391858e+00,   6.28837599e-01,   8.43702465e-01,\n",
       "          6.92609162e-01],\n",
       "       [ -3.13558425e-16,   2.25942616e+00,  -2.39332159e-01,\n",
       "         -3.23400259e-01],\n",
       "       [ -1.94993437e-01,  -3.72967705e-02,   1.13481788e+00,\n",
       "          2.43457204e-01],\n",
       "       [  1.21924321e+00,  -8.77857775e-01,   1.32803350e+00,\n",
       "          1.62821811e+00]])"
      ]
     },
     "execution_count": 20,
     "metadata": {},
     "output_type": "execute_result"
    }
   ],
   "source": [
    "new_mat[:4, :4]"
   ]
  },
  {
   "cell_type": "code",
   "execution_count": null,
   "metadata": {},
   "outputs": [],
   "source": []
  },
  {
   "cell_type": "code",
   "execution_count": 21,
   "metadata": {},
   "outputs": [],
   "source": [
    "from sklearn.decomposition import FactorAnalysis"
   ]
  },
  {
   "cell_type": "code",
   "execution_count": 23,
   "metadata": {},
   "outputs": [],
   "source": [
    "iris = datasets.load_iris()\n",
    "fa = FactorAnalysis(n_components=2)\n",
    "iris_two_dim=fa.fit_transform(iris.data)"
   ]
  },
  {
   "cell_type": "code",
   "execution_count": 28,
   "metadata": {},
   "outputs": [],
   "source": [
    "from sklearn.cluster import KMeans\n",
    "from scipy.spatial.distance import cdist"
   ]
  },
  {
   "cell_type": "code",
   "execution_count": 30,
   "metadata": {},
   "outputs": [
    {
     "data": {
      "text/plain": [
       "Text(0.5,0,'k')"
      ]
     },
     "execution_count": 30,
     "metadata": {},
     "output_type": "execute_result"
    },
    {
     "data": {
      "image/png": "[encoded data removed]",
      "text/plain": [
       "<matplotlib.figure.Figure at 0x2a843d5cfd0>"
      ]
     },
     "metadata": {},
     "output_type": "display_data"
    }
   ],
   "source": [
    "import numpy as np\n",
    "import matplotlib.pyplot as plt\n",
    "K = range(1, 10)\n",
    "meandistortions = []\n",
    "for k in K:\n",
    "    kmeans=KMeans(n_clusters=k)\n",
    "    kmeans.fit(iris_two_dim)\n",
    "    meandistortions.append(sum(np.min(\n",
    "            cdist(iris_two_dim,kmeans.cluster_centers_,\n",
    "                 'euclidean'),axis=1))/iris_two_dim.shape[0])\n",
    "plt.plot(K,meandistortions,'bx-')\n",
    "plt.xlabel('k')"
   ]
  },
  {
   "cell_type": "code",
   "execution_count": 31,
   "metadata": {},
   "outputs": [],
   "source": [
    "from sklearn import metrics"
   ]
  },
  {
   "cell_type": "code",
   "execution_count": 33,
   "metadata": {},
   "outputs": [
    {
     "data": {
      "image/png": "[encoded data removed]",
      "text/plain": [
       "<matplotlib.figure.Figure at 0x2a84084cb70>"
      ]
     },
     "metadata": {},
     "output_type": "display_data"
    }
   ],
   "source": [
    "colors = ['b', 'g', 'r', 'c', 'm', 'y', 'k', 'b']\n",
    "kmeans_model=KMeans(n_clusters=2).fit(iris_two_dim)\n",
    "for i,l in enumerate(kmeans_model.labels_):\n",
    "    plt.plot(iris_two_dim[:,0][i],iris_two_dim[:,1][i],\n",
    "             color=colors[l],marker='o',ls='None')\n",
    "    "
   ]
  },
  {
   "cell_type": "code",
   "execution_count": null,
   "metadata": {},
   "outputs": [],
   "source": []
  },
  {
   "cell_type": "code",
   "execution_count": 34,
   "metadata": {},
   "outputs": [],
   "source": [
    "from sklearn.datasets import load_iris\n",
    "import numpy as np"
   ]
  },
  {
   "cell_type": "code",
   "execution_count": 35,
   "metadata": {},
   "outputs": [],
   "source": [
    "iris=load_iris()\n",
    "iris_data=iris.data"
   ]
  },
  {
   "cell_type": "code",
   "execution_count": 36,
   "metadata": {},
   "outputs": [
    {
     "data": {
      "text/plain": [
       "array([[ nan,  3.5,  1.4,  0.2],\n",
       "       [ 4.9,  3. ,  nan,  nan],\n",
       "       [ 4.7,  3.2,  1.3,  nan],\n",
       "       [ 4.6,  3.1,  nan,  nan],\n",
       "       [ 5. ,  3.6,  nan,  nan]])"
      ]
     },
     "execution_count": 36,
     "metadata": {},
     "output_type": "execute_result"
    }
   ],
   "source": [
    "mask=np.random.binomial(1, .25, iris_data.shape).astype(bool)\n",
    "iris_data[mask] = np.nan\n",
    "iris_data[:5]"
   ]
  },
  {
   "cell_type": "code",
   "execution_count": 37,
   "metadata": {},
   "outputs": [],
   "source": [
    "from sklearn import pipeline, preprocessing, decomposition"
   ]
  },
  {
   "cell_type": "code",
   "execution_count": 38,
   "metadata": {},
   "outputs": [],
   "source": [
    "pca = decomposition.PCA()\n",
    "imputer = preprocessing.Imputer()"
   ]
  },
  {
   "cell_type": "code",
   "execution_count": 39,
   "metadata": {},
   "outputs": [
    {
     "data": {
      "text/plain": [
       "array([[ -2.62137876e+00,   7.05452846e-01,   5.29856910e-01,\n",
       "         -1.69908372e-02],\n",
       "       [ -2.85503628e-01,  -8.27196392e-01,  -3.36769203e-01,\n",
       "          1.66383375e-01],\n",
       "       [ -2.73485796e+00,   3.80995698e-02,  -8.00445637e-01,\n",
       "          4.28352166e-01],\n",
       "       [ -3.83470272e-01,  -1.08392287e+00,  -3.87181365e-01,\n",
       "          3.14547697e-01],\n",
       "       [ -2.98230495e-01,  -7.18576416e-01,  -2.21761776e-03,\n",
       "          6.62483127e-01]])"
      ]
     },
     "execution_count": 39,
     "metadata": {},
     "output_type": "execute_result"
    }
   ],
   "source": [
    "pipe = pipeline.Pipeline([('imputer',imputer),('pca', pca)])\n",
    "iris_data_transformed=pipe.fit_transform(iris_data)\n",
    "iris_data_transformed[:5]"
   ]
  },
  {
   "cell_type": "code",
   "execution_count": null,
   "metadata": {},
   "outputs": [],
   "source": []
  }
 ],
 "metadata": {
  "kernelspec": {
   "display_name": "Python 3",
   "language": "python",
   "name": "python3"
  },
  "language_info": {
   "codemirror_mode": {
    "name": "ipython",
    "version": 3
   },
   "file_extension": ".py",
   "mimetype": "text/x-python",
   "name": "python",
   "nbconvert_exporter": "python",
   "pygments_lexer": "ipython3",
   "version": "3.6.4"
  }
 },
 "nbformat": 4,
 "nbformat_minor": 2
}
